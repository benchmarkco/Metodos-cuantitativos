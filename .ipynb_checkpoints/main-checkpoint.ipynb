{
 "cells": [
  {
   "attachments": {},
   "cell_type": "markdown",
   "metadata": {},
   "source": [
    "2. Considere el número mensual de pernoctaciones desde el extranjero a Europa (en millones).\n",
    " - a) Utilice la técnica de aditivo estacional y multiplicativo estacional para pronosticar el número de pernoctaciones que se esperan en los próximos 3 meses, con su respectivo margen de error. Determine si los residuos de cada modelo son ruido blanco y seleccione el mejor. Solamente realice los pronósticos con el mejor modelo. Considere 8000 simulaciones y 600 repeticiones. Interprete.\n",
    " - b) Utilice la técnica de regresión múltiple con variables ficticias para pronosticar el número de pernoctaciones que se esperan en los próximos 3 meses. Determine si los residuos del modelo son ruido blanco."
   ]
  },
  {
   "cell_type": "code",
   "execution_count": null,
   "metadata": {},
   "outputs": [],
   "source": []
  },
  {
   "attachments": {},
   "cell_type": "markdown",
   "metadata": {},
   "source": []
  }
 ],
 "metadata": {
  "language_info": {
   "name": "python"
  },
  "orig_nbformat": 4
 },
 "nbformat": 4,
 "nbformat_minor": 2
}
