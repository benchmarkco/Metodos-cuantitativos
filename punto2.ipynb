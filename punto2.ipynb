{
 "cells": [
  {
   "cell_type": "code",
   "execution_count": 1,
   "metadata": {
    "tags": []
   },
   "outputs": [],
   "source": [
    "import pandas as pd"
   ]
  },
  {
   "cell_type": "code",
   "execution_count": 2,
   "metadata": {
    "tags": []
   },
   "outputs": [],
   "source": [
    "excel_sheet = pd.read_excel(\"Datos TallerMCII 2023-1 (1).xlsx\", sheet_name = \"DATOS PUNTO I\")"
   ]
  },
  {
   "cell_type": "markdown",
   "metadata": {},
   "source": [
    "2. Considere el número mensual de pernoctaciones desde el extranjero a Europa (en millones).\n",
    " - a) Utilice la técnica de aditivo estacional y multiplicativo estacional para pronosticar el número de pernoctaciones que se esperan en los próximos 3 meses, con su respectivo margen de error. Determine si los residuos de cada modelo son ruido blanco y seleccione el mejor. Solamente realice los pronósticos con el mejor modelo. Considere 8000 simulaciones y 600 repeticiones. Interprete.\n",
    " - b) Utilice la técnica de regresión múltiple con variables ficticias para pronosticar el número de pernoctaciones que se esperan en los próximos 3 meses. Determine si los residuos del modelo son ruido blanco."
   ]
  },
  {
   "cell_type": "code",
   "execution_count": 3,
   "metadata": {
    "tags": []
   },
   "outputs": [],
   "source": [
    "pernotaciones_frame = excel_sheet.iloc[:,6:8]\n",
    "pernotaciones_frame[\"Periodo\"] = pd.to_datetime(pernotaciones_frame[\"Periodo\"], format = \"%Y-%m\" )"
   ]
  },
  {
   "cell_type": "code",
   "execution_count": 4,
   "metadata": {
    "tags": []
   },
   "outputs": [
    {
     "data": {
      "text/plain": [
       "(569, 2)"
      ]
     },
     "execution_count": 4,
     "metadata": {},
     "output_type": "execute_result"
    }
   ],
   "source": [
    "pernotaciones_frame.shape"
   ]
  },
  {
   "cell_type": "code",
   "execution_count": 5,
   "metadata": {
    "tags": []
   },
   "outputs": [],
   "source": [
    "pernotaciones_frame = pernotaciones_frame.dropna()"
   ]
  },
  {
   "cell_type": "code",
   "execution_count": 6,
   "metadata": {
    "tags": []
   },
   "outputs": [
    {
     "data": {
      "text/plain": [
       "(200, 2)"
      ]
     },
     "execution_count": 6,
     "metadata": {},
     "output_type": "execute_result"
    }
   ],
   "source": [
    "pernotaciones_frame.shape"
   ]
  },
  {
   "cell_type": "code",
   "execution_count": 7,
   "metadata": {
    "tags": []
   },
   "outputs": [
    {
     "name": "stdout",
     "output_type": "stream",
     "text": [
      "<class 'pandas.core.frame.DataFrame'>\n",
      "Index: 200 entries, 0 to 199\n",
      "Data columns (total 2 columns):\n",
      " #   Column                                                         Non-Null Count  Dtype         \n",
      "---  ------                                                         --------------  -----         \n",
      " 0   Periodo                                                        200 non-null    datetime64[ns]\n",
      " 1   Número mensual de pernoctaciones desde el extranjero a Europa  200 non-null    float64       \n",
      "dtypes: datetime64[ns](1), float64(1)\n",
      "memory usage: 4.7 KB\n"
     ]
    }
   ],
   "source": [
    "pernotaciones_frame.info()"
   ]
  },
  {
   "cell_type": "code",
   "execution_count": 8,
   "metadata": {
    "tags": []
   },
   "outputs": [
    {
     "data": {
      "text/html": [
       "<div>\n",
       "<style scoped>\n",
       "    .dataframe tbody tr th:only-of-type {\n",
       "        vertical-align: middle;\n",
       "    }\n",
       "\n",
       "    .dataframe tbody tr th {\n",
       "        vertical-align: top;\n",
       "    }\n",
       "\n",
       "    .dataframe thead th {\n",
       "        text-align: right;\n",
       "    }\n",
       "</style>\n",
       "<table border=\"1\" class=\"dataframe\">\n",
       "  <thead>\n",
       "    <tr style=\"text-align: right;\">\n",
       "      <th></th>\n",
       "      <th>Pernotaciones</th>\n",
       "    </tr>\n",
       "  </thead>\n",
       "  <tbody>\n",
       "    <tr>\n",
       "      <th>count</th>\n",
       "      <td>200.000000</td>\n",
       "    </tr>\n",
       "    <tr>\n",
       "      <th>mean</th>\n",
       "      <td>1688.982589</td>\n",
       "    </tr>\n",
       "    <tr>\n",
       "      <th>std</th>\n",
       "      <td>425.914580</td>\n",
       "    </tr>\n",
       "    <tr>\n",
       "      <th>min</th>\n",
       "      <td>811.080000</td>\n",
       "    </tr>\n",
       "    <tr>\n",
       "      <th>25%</th>\n",
       "      <td>1406.153750</td>\n",
       "    </tr>\n",
       "    <tr>\n",
       "      <th>50%</th>\n",
       "      <td>1611.952500</td>\n",
       "    </tr>\n",
       "    <tr>\n",
       "      <th>75%</th>\n",
       "      <td>1913.162250</td>\n",
       "    </tr>\n",
       "    <tr>\n",
       "      <th>max</th>\n",
       "      <td>2601.068000</td>\n",
       "    </tr>\n",
       "  </tbody>\n",
       "</table>\n",
       "</div>"
      ],
      "text/plain": [
       "       Pernotaciones\n",
       "count     200.000000\n",
       "mean     1688.982589\n",
       "std       425.914580\n",
       "min       811.080000\n",
       "25%      1406.153750\n",
       "50%      1611.952500\n",
       "75%      1913.162250\n",
       "max      2601.068000"
      ]
     },
     "execution_count": 8,
     "metadata": {},
     "output_type": "execute_result"
    }
   ],
   "source": [
    "pernotaciones_frame.columns = [\"Periodo\", \"Pernotaciones\"]\n",
    "pernotaciones_frame.set_index(\"Periodo\", inplace = True)\n",
    "pernotaciones_frame.describe()"
   ]
  },
  {
   "cell_type": "code",
   "execution_count": 9,
   "metadata": {},
   "outputs": [
    {
     "data": {
      "text/html": [
       "<div>\n",
       "<style scoped>\n",
       "    .dataframe tbody tr th:only-of-type {\n",
       "        vertical-align: middle;\n",
       "    }\n",
       "\n",
       "    .dataframe tbody tr th {\n",
       "        vertical-align: top;\n",
       "    }\n",
       "\n",
       "    .dataframe thead th {\n",
       "        text-align: right;\n",
       "    }\n",
       "</style>\n",
       "<table border=\"1\" class=\"dataframe\">\n",
       "  <thead>\n",
       "    <tr style=\"text-align: right;\">\n",
       "      <th></th>\n",
       "      <th>Pernotaciones</th>\n",
       "    </tr>\n",
       "    <tr>\n",
       "      <th>Periodo</th>\n",
       "      <th></th>\n",
       "    </tr>\n",
       "  </thead>\n",
       "  <tbody>\n",
       "    <tr>\n",
       "      <th>2006-06-30</th>\n",
       "      <td>1462.712000</td>\n",
       "    </tr>\n",
       "    <tr>\n",
       "      <th>2006-07-31</th>\n",
       "      <td>1618.582000</td>\n",
       "    </tr>\n",
       "    <tr>\n",
       "      <th>2006-08-31</th>\n",
       "      <td>1867.108000</td>\n",
       "    </tr>\n",
       "    <tr>\n",
       "      <th>2006-09-30</th>\n",
       "      <td>1163.087000</td>\n",
       "    </tr>\n",
       "    <tr>\n",
       "      <th>2006-10-31</th>\n",
       "      <td>1247.724000</td>\n",
       "    </tr>\n",
       "    <tr>\n",
       "      <th>...</th>\n",
       "      <td>...</td>\n",
       "    </tr>\n",
       "    <tr>\n",
       "      <th>2022-09-30</th>\n",
       "      <td>1124.965249</td>\n",
       "    </tr>\n",
       "    <tr>\n",
       "      <th>2022-10-31</th>\n",
       "      <td>1654.963000</td>\n",
       "    </tr>\n",
       "    <tr>\n",
       "      <th>2022-11-30</th>\n",
       "      <td>2601.068000</td>\n",
       "    </tr>\n",
       "    <tr>\n",
       "      <th>2022-12-31</th>\n",
       "      <td>2356.880000</td>\n",
       "    </tr>\n",
       "    <tr>\n",
       "      <th>2023-01-31</th>\n",
       "      <td>2122.530000</td>\n",
       "    </tr>\n",
       "  </tbody>\n",
       "</table>\n",
       "<p>200 rows × 1 columns</p>\n",
       "</div>"
      ],
      "text/plain": [
       "            Pernotaciones\n",
       "Periodo                  \n",
       "2006-06-30    1462.712000\n",
       "2006-07-31    1618.582000\n",
       "2006-08-31    1867.108000\n",
       "2006-09-30    1163.087000\n",
       "2006-10-31    1247.724000\n",
       "...                   ...\n",
       "2022-09-30    1124.965249\n",
       "2022-10-31    1654.963000\n",
       "2022-11-30    2601.068000\n",
       "2022-12-31    2356.880000\n",
       "2023-01-31    2122.530000\n",
       "\n",
       "[200 rows x 1 columns]"
      ]
     },
     "execution_count": 9,
     "metadata": {},
     "output_type": "execute_result"
    }
   ],
   "source": [
    "pernotaciones_frame.resample(\"M\").first()"
   ]
  },
  {
   "cell_type": "code",
   "execution_count": 16,
   "metadata": {},
   "outputs": [],
   "source": [
    "\n",
    "import matplotlib.pyplot as plt\n",
    "from statsmodels.tsa.holtwinters import ExponentialSmoothing\n",
    "\n"
   ]
  },
  {
   "cell_type": "code",
   "execution_count": 26,
   "metadata": {},
   "outputs": [
    {
     "name": "stdout",
     "output_type": "stream",
     "text": [
      "Forecasted values: 2023-02-01    2123.707736\n",
      "2023-03-01    2123.707736\n",
      "2023-04-01    2123.707736\n",
      "Freq: MS, dtype: float64\n"
     ]
    },
    {
     "name": "stderr",
     "output_type": "stream",
     "text": [
      "/workspaces/Metodos-cuantitativos/env/lib/python3.10/site-packages/statsmodels/tsa/base/tsa_model.py:473: ValueWarning: No frequency information was provided, so inferred frequency MS will be used.\n",
      "  self._init_dates(dates, freq)\n"
     ]
    }
   ],
   "source": [
    "# Create the Holt-Winters model with alpha=0 (no trend smoothing)\n",
    "model = ExponentialSmoothing(pernotaciones_frame['Pernotaciones'], seasonal_periods=12)\n",
    "\n",
    "# Fit the model to the training data\n",
    "fitted_model = model.fit()\n",
    "\n",
    "# Forecast the next 3 months\n",
    "forecast = fitted_model.forecast(3)\n",
    "\n",
    "# Print the forecasted values\n",
    "print(\"Forecasted values:\", forecast) "
   ]
  },
  {
   "cell_type": "code",
   "execution_count": 27,
   "metadata": {},
   "outputs": [
    {
     "data": {
      "text/html": [
       "<table class=\"simpletable\">\n",
       "<caption>ExponentialSmoothing Model Results</caption>\n",
       "<tr>\n",
       "  <th>Dep. Variable:</th>        <td>Pernotaciones</td>    <th>  No. Observations:  </th>        <td>200</td>      \n",
       "</tr>\n",
       "<tr>\n",
       "  <th>Model:</th>            <td>ExponentialSmoothing</td> <th>  SSE                </th>   <td>28964204.785</td>  \n",
       "</tr>\n",
       "<tr>\n",
       "  <th>Optimized:</th>                <td>True</td>         <th>  AIC                </th>     <td>2380.651</td>    \n",
       "</tr>\n",
       "<tr>\n",
       "  <th>Trend:</th>                    <td>None</td>         <th>  BIC                </th>     <td>2387.247</td>    \n",
       "</tr>\n",
       "<tr>\n",
       "  <th>Seasonal:</th>                 <td>None</td>         <th>  AICC               </th>     <td>2380.856</td>    \n",
       "</tr>\n",
       "<tr>\n",
       "  <th>Seasonal Periods:</th>         <td>None</td>         <th>  Date:              </th> <td>Sat, 13 May 2023</td>\n",
       "</tr>\n",
       "<tr>\n",
       "  <th>Box-Cox:</th>                  <td>False</td>        <th>  Time:              </th>     <td>16:17:36</td>    \n",
       "</tr>\n",
       "<tr>\n",
       "  <th>Box-Cox Coeff.:</th>           <td>None</td>         <th>                     </th>         <td> </td>       \n",
       "</tr>\n",
       "</table>\n",
       "<table class=\"simpletable\">\n",
       "<tr>\n",
       "         <td></td>                 <th>coeff</th>                <th>code</th>               <th>optimized</th>     \n",
       "</tr>\n",
       "<tr>\n",
       "  <th>smoothing_level</th> <td>           0.9950000</td> <td>               alpha</td> <td>                True</td>\n",
       "</tr>\n",
       "<tr>\n",
       "  <th>initial_level</th>   <td>           1515.8663</td> <td>                 l.0</td> <td>                True</td>\n",
       "</tr>\n",
       "</table>"
      ],
      "text/latex": [
       "\\begin{center}\n",
       "\\begin{tabular}{lclc}\n",
       "\\toprule\n",
       "\\textbf{Dep. Variable:}    &    Pernotaciones     & \\textbf{  No. Observations:  } &         200           \\\\\n",
       "\\textbf{Model:}            & ExponentialSmoothing & \\textbf{  SSE                } &     28964204.785      \\\\\n",
       "\\textbf{Optimized:}        &         True         & \\textbf{  AIC                } &       2380.651        \\\\\n",
       "\\textbf{Trend:}            &         None         & \\textbf{  BIC                } &       2387.247        \\\\\n",
       "\\textbf{Seasonal:}         &         None         & \\textbf{  AICC               } &       2380.856        \\\\\n",
       "\\textbf{Seasonal Periods:} &         None         & \\textbf{  Date:              } &   Sat, 13 May 2023    \\\\\n",
       "\\textbf{Box-Cox:}          &        False         & \\textbf{  Time:              } &       16:17:36        \\\\\n",
       "\\textbf{Box-Cox Coeff.:}   &         None         & \\textbf{                     } &                       \\\\\n",
       "\\bottomrule\n",
       "\\end{tabular}\n",
       "\\begin{tabular}{lccc}\n",
       "                          &    \\textbf{coeff}    &    \\textbf{code}     &  \\textbf{optimized}   \\\\\n",
       "\\midrule\n",
       "\\textbf{smoothing\\_level} &            0.9950000 &                alpha &                 True  \\\\\n",
       "\\textbf{initial\\_level}   &            1515.8663 &                  l.0 &                 True  \\\\\n",
       "\\bottomrule\n",
       "\\end{tabular}\n",
       "%\\caption{ExponentialSmoothing Model Results}\n",
       "\\end{center}"
      ],
      "text/plain": [
       "<class 'statsmodels.iolib.summary.Summary'>\n",
       "\"\"\"\n",
       "                       ExponentialSmoothing Model Results                       \n",
       "================================================================================\n",
       "Dep. Variable:            Pernotaciones   No. Observations:                  200\n",
       "Model:             ExponentialSmoothing   SSE                       28964204.785\n",
       "Optimized:                         True   AIC                           2380.651\n",
       "Trend:                             None   BIC                           2387.247\n",
       "Seasonal:                          None   AICC                          2380.856\n",
       "Seasonal Periods:                  None   Date:                 Sat, 13 May 2023\n",
       "Box-Cox:                          False   Time:                         16:17:36\n",
       "Box-Cox Coeff.:                    None                                         \n",
       "==============================================================================\n",
       "                       coeff                 code              optimized      \n",
       "------------------------------------------------------------------------------\n",
       "smoothing_level            0.9950000                alpha                 True\n",
       "initial_level              1515.8663                  l.0                 True\n",
       "------------------------------------------------------------------------------\n",
       "\"\"\""
      ]
     },
     "execution_count": 27,
     "metadata": {},
     "output_type": "execute_result"
    }
   ],
   "source": [
    "fitted_model.summary()"
   ]
  },
  {
   "cell_type": "code",
   "execution_count": null,
   "metadata": {},
   "outputs": [],
   "source": [
    "import pandas as pd\n",
    "from itertools import product\n",
    "from statsmodels.tsa.holtwinters import ExponentialSmoothing\n",
    "\n",
    "# Load the monthly data into a DataFrame\n",
    "df = pd.read_csv('monthly_data.csv', parse_dates=['date'])\n",
    "df.set_index('date', inplace=True)\n",
    "\n",
    "# Split the data into a training set and a validation set\n",
    "train_data = df.iloc[:-12]  # Use all but the last 12 months for training\n",
    "valid_data = df.iloc[-12:]  # Use the last 12 months for validation\n",
    "\n",
    "# Define the range of values for alpha, beta, and gamma\n",
    "alpha_values = [0.1, 0.2, 0.3]\n",
    "beta_values = [0.1, 0.2, 0.3]\n",
    "gamma_values = [0.1, 0.2, 0.3]\n",
    "\n",
    "# Perform grid search to find the optimal parameters\n",
    "best_params = None\n",
    "best_error = float('inf')\n",
    "\n",
    "for alpha, beta, gamma in product(alpha_values, beta_values, gamma_values):\n",
    "    model = ExponentialSmoothing(train_data['value'], trend='add', seasonal='add', seasonal_periods=12)\n",
    "    fitted_model = model.fit(smoothing_level=alpha, smoothing_slope=beta, smoothing_seasonal=gamma)\n",
    "    forecast = fitted_model.forecast(len(valid_data))\n",
    "    error = mean_squared_error(valid_data['value'], forecast)\n",
    "    \n",
    "    if error < best_error:\n",
    "        best_params = (alpha, beta, gamma)\n",
    "        best_error = error\n",
    "\n",
    "# Fit the model with the best parameters using the entire training set\n",
    "final_model = ExponentialSmoothing(df['value'], trend='add', seasonal='add', seasonal_periods=12)\n",
    "final_fitted_model = final_model.fit(smoothing_level=best_params[0], smoothing_slope=best_params[1], smoothing_seasonal=best_params[2])\n",
    "\n",
    "# Forecast future values using the final model\n",
    "forecast = final_fitted_model.forecast(3)\n",
    "\n",
    "print(\"Best parameters:\", best_params)\n",
    "print(\"Forecasted values:\", forecast)\n"
   ]
  }
 ],
 "metadata": {
  "kernelspec": {
   "display_name": "Python 3 (ipykernel)",
   "language": "python",
   "name": "python3"
  },
  "language_info": {
   "codemirror_mode": {
    "name": "ipython",
    "version": 3
   },
   "file_extension": ".py",
   "mimetype": "text/x-python",
   "name": "python",
   "nbconvert_exporter": "python",
   "pygments_lexer": "ipython3",
   "version": "3.10.4"
  }
 },
 "nbformat": 4,
 "nbformat_minor": 4
}
