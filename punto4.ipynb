{
 "cells": [
  {
   "cell_type": "code",
   "execution_count": 1,
   "metadata": {},
   "outputs": [],
   "source": [
    "import pandas as pd\n",
    "import numpy as np\n",
    "import matplotlib.pyplot as plt\n",
    "from statsmodels.tsa.stattools import kpss\n",
    "from statsmodels.tsa.stattools import acf, pacf\n",
    "from statsmodels.graphics.tsaplots import plot_acf, plot_pacf\n"
   ]
  },
  {
   "cell_type": "code",
   "execution_count": 2,
   "metadata": {},
   "outputs": [
    {
     "data": {
      "text/html": [
       "<div>\n",
       "<style scoped>\n",
       "    .dataframe tbody tr th:only-of-type {\n",
       "        vertical-align: middle;\n",
       "    }\n",
       "\n",
       "    .dataframe tbody tr th {\n",
       "        vertical-align: top;\n",
       "    }\n",
       "\n",
       "    .dataframe thead th {\n",
       "        text-align: right;\n",
       "    }\n",
       "</style>\n",
       "<table border=\"1\" class=\"dataframe\">\n",
       "  <thead>\n",
       "    <tr style=\"text-align: right;\">\n",
       "      <th></th>\n",
       "      <th>brent</th>\n",
       "      <th>log_brent</th>\n",
       "    </tr>\n",
       "    <tr>\n",
       "      <th>FECHA</th>\n",
       "      <th></th>\n",
       "      <th></th>\n",
       "    </tr>\n",
       "  </thead>\n",
       "  <tbody>\n",
       "    <tr>\n",
       "      <th>2019-03-01</th>\n",
       "      <td>65.07</td>\n",
       "      <td>4.175464</td>\n",
       "    </tr>\n",
       "    <tr>\n",
       "      <th>2019-03-04</th>\n",
       "      <td>65.67</td>\n",
       "      <td>4.184642</td>\n",
       "    </tr>\n",
       "    <tr>\n",
       "      <th>2019-03-05</th>\n",
       "      <td>65.86</td>\n",
       "      <td>4.187531</td>\n",
       "    </tr>\n",
       "    <tr>\n",
       "      <th>2019-03-06</th>\n",
       "      <td>65.99</td>\n",
       "      <td>4.189503</td>\n",
       "    </tr>\n",
       "    <tr>\n",
       "      <th>2019-03-07</th>\n",
       "      <td>66.30</td>\n",
       "      <td>4.194190</td>\n",
       "    </tr>\n",
       "  </tbody>\n",
       "</table>\n",
       "</div>"
      ],
      "text/plain": [
       "            brent  log_brent\n",
       "FECHA                       \n",
       "2019-03-01  65.07   4.175464\n",
       "2019-03-04  65.67   4.184642\n",
       "2019-03-05  65.86   4.187531\n",
       "2019-03-06  65.99   4.189503\n",
       "2019-03-07  66.30   4.194190"
      ]
     },
     "execution_count": 2,
     "metadata": {},
     "output_type": "execute_result"
    }
   ],
   "source": [
    "excel_sheet = pd.read_excel(\"Datos TallerMCII 2023-1 (1).xlsx\", sheet_name = \"PUNTO IV\")\n",
    "excel_sheet.set_index(\"FECHA\", inplace = True)\n",
    "excel_sheet.columns = [\"brent\"]\n",
    "\n",
    "excel_sheet[\"log_brent\"] = np.log(excel_sheet[\"brent\"])\n",
    "excel_sheet.head(5)"
   ]
  },
  {
   "attachments": {},
   "cell_type": "markdown",
   "metadata": {},
   "source": [
    " - Revisar estacionariedad *Manual*"
   ]
  },
  {
   "cell_type": "code",
   "execution_count": 3,
   "metadata": {},
   "outputs": [
    {
     "name": "stdout",
     "output_type": "stream",
     "text": [
      "Resumen del test KPSS:\n",
      "Estadístico KPSS: 0.09519945750577014\n",
      "Valor p: 0.1\n",
      "Número de lags utilizados: 5\n",
      "Valores críticos:\n",
      "  10%: 0.347\n",
      "  5%: 0.463\n",
      "  2.5%: 0.574\n",
      "  1%: 0.739\n",
      "La serie temporal es estacionaria en media.\n",
      "Hipótesis nula: No existe una raíz unitaria (la serie es estacionaria en media).\n"
     ]
    },
    {
     "name": "stderr",
     "output_type": "stream",
     "text": [
      "/tmp/ipykernel_3300/3213661305.py:2: InterpolationWarning: The test statistic is outside of the range of p-values available in the\n",
      "look-up table. The actual p-value is greater than the p-value returned.\n",
      "\n",
      "  kpss_stat, p_value, lags, crit = kpss(excel_sheet[\"log_brent\"].diff(1).dropna())\n"
     ]
    }
   ],
   "source": [
    "# Realizar el test KPSS\n",
    "kpss_stat, p_value, lags, crit = kpss(excel_sheet[\"log_brent\"].diff(1).dropna())\n",
    "\n",
    "# Imprimir un resumen del test KPSS\n",
    "print(\"Resumen del test KPSS:\")\n",
    "print(f\"Estadístico KPSS: {kpss_stat}\")\n",
    "print(f\"Valor p: {p_value}\")\n",
    "print(f\"Número de lags utilizados: {lags}\")\n",
    "print(\"Valores críticos:\")\n",
    "for key, value in crit.items():\n",
    "    print(f\"  {key}: {value}\")\n",
    "\n",
    "    # Verificar la estacionariedad en media y especificar la hipótesis nula\n",
    "alpha = 0.05\n",
    "if p_value < alpha:\n",
    "    print(\"La serie temporal NO es estacionaria en media.\")\n",
    "    print(\"Hipótesis nula: Existe una raíz unitaria (la serie no es estacionaria en media).\")\n",
    "else:\n",
    "    print(\"La serie temporal es estacionaria en media.\")\n",
    "    print(\"Hipótesis nula: No existe una raíz unitaria (la serie es estacionaria en media).\")"
   ]
  },
  {
   "attachments": {},
   "cell_type": "markdown",
   "metadata": {},
   "source": [
    "Revisar Estacionariedad *Automatico*"
   ]
  },
  {
   "cell_type": "code",
   "execution_count": 4,
   "metadata": {},
   "outputs": [
    {
     "name": "stdout",
     "output_type": "stream",
     "text": [
      "Numero de diferencias requeridas: 1\n"
     ]
    },
    {
     "name": "stderr",
     "output_type": "stream",
     "text": [
      "/tmp/ipykernel_3300/181755742.py:4: InterpolationWarning: The test statistic is outside of the range of p-values available in the\n",
      "look-up table. The actual p-value is smaller than the p-value returned.\n",
      "\n",
      "  kpss_result_auto = kpss(excel_sheet[\"log_brent\"])\n",
      "/tmp/ipykernel_3300/181755742.py:8: InterpolationWarning: The test statistic is outside of the range of p-values available in the\n",
      "look-up table. The actual p-value is greater than the p-value returned.\n",
      "\n",
      "  kpss_result_auto = kpss(ts)\n"
     ]
    }
   ],
   "source": [
    "alpha = 0.05\n",
    "\n",
    "num_diffs = 0\n",
    "kpss_result_auto = kpss(excel_sheet[\"log_brent\"])\n",
    "while kpss_result_auto[1] < alpha:\n",
    "    num_diffs += 1\n",
    "    ts = excel_sheet[\"log_brent\"].diff(num_diffs).dropna()\n",
    "    kpss_result_auto = kpss(ts)\n",
    " \n",
    "print(f\"Numero de diferencias requeridas: {num_diffs}\")"
   ]
  },
  {
   "cell_type": "code",
   "execution_count": 45,
   "metadata": {},
   "outputs": [
    {
     "data": {
      "text/html": [
       "<div>\n",
       "<style scoped>\n",
       "    .dataframe tbody tr th:only-of-type {\n",
       "        vertical-align: middle;\n",
       "    }\n",
       "\n",
       "    .dataframe tbody tr th {\n",
       "        vertical-align: top;\n",
       "    }\n",
       "\n",
       "    .dataframe thead th {\n",
       "        text-align: right;\n",
       "    }\n",
       "</style>\n",
       "<table border=\"1\" class=\"dataframe\">\n",
       "  <thead>\n",
       "    <tr style=\"text-align: right;\">\n",
       "      <th></th>\n",
       "      <th>brent</th>\n",
       "      <th>log_brent</th>\n",
       "      <th>log_brent_1</th>\n",
       "    </tr>\n",
       "    <tr>\n",
       "      <th>FECHA</th>\n",
       "      <th></th>\n",
       "      <th></th>\n",
       "      <th></th>\n",
       "    </tr>\n",
       "  </thead>\n",
       "  <tbody>\n",
       "    <tr>\n",
       "      <th>2019-03-01</th>\n",
       "      <td>65.07</td>\n",
       "      <td>4.175464</td>\n",
       "      <td>0.000000</td>\n",
       "    </tr>\n",
       "    <tr>\n",
       "      <th>2019-03-04</th>\n",
       "      <td>65.67</td>\n",
       "      <td>4.184642</td>\n",
       "      <td>0.009179</td>\n",
       "    </tr>\n",
       "    <tr>\n",
       "      <th>2019-03-05</th>\n",
       "      <td>65.86</td>\n",
       "      <td>4.187531</td>\n",
       "      <td>0.002889</td>\n",
       "    </tr>\n",
       "    <tr>\n",
       "      <th>2019-03-06</th>\n",
       "      <td>65.99</td>\n",
       "      <td>4.189503</td>\n",
       "      <td>0.001972</td>\n",
       "    </tr>\n",
       "    <tr>\n",
       "      <th>2019-03-07</th>\n",
       "      <td>66.30</td>\n",
       "      <td>4.194190</td>\n",
       "      <td>0.004687</td>\n",
       "    </tr>\n",
       "  </tbody>\n",
       "</table>\n",
       "</div>"
      ],
      "text/plain": [
       "            brent  log_brent  log_brent_1\n",
       "FECHA                                    \n",
       "2019-03-01  65.07   4.175464     0.000000\n",
       "2019-03-04  65.67   4.184642     0.009179\n",
       "2019-03-05  65.86   4.187531     0.002889\n",
       "2019-03-06  65.99   4.189503     0.001972\n",
       "2019-03-07  66.30   4.194190     0.004687"
      ]
     },
     "execution_count": 45,
     "metadata": {},
     "output_type": "execute_result"
    }
   ],
   "source": [
    "excel_sheet[f\"log_brent_{num_diffs}\"] = excel_sheet[\"log_brent\"].diff(num_diffs).fillna(0)\n",
    "excel_sheet.head()"
   ]
  },
  {
   "attachments": {},
   "cell_type": "markdown",
   "metadata": {},
   "source": [
    " - Estimar los errores a partir de una regresion 'log_brent_1 c' revisar si son o no ruido blanco los errores a partir del correlograma"
   ]
  },
  {
   "cell_type": "code",
   "execution_count": 47,
   "metadata": {},
   "outputs": [
    {
     "ename": "TypeError",
     "evalue": "'numpy.ndarray' object is not callable",
     "output_type": "error",
     "traceback": [
      "\u001b[0;31m---------------------------------------------------------------------------\u001b[0m",
      "\u001b[0;31mTypeError\u001b[0m                                 Traceback (most recent call last)",
      "Cell \u001b[0;32mIn[47], line 1\u001b[0m\n\u001b[0;32m----> 1\u001b[0m x  \u001b[39m=\u001b[39m acf(excel_sheet[\u001b[39m\"\u001b[39;49m\u001b[39mlog_brent_1\u001b[39;49m\u001b[39m\"\u001b[39;49m], nlags\u001b[39m=\u001b[39;49m\u001b[39m100\u001b[39;49m, alpha\u001b[39m=\u001b[39;49m\u001b[39m0.05\u001b[39;49m, qstat\u001b[39m=\u001b[39;49m\u001b[39mTrue\u001b[39;49;00m)\n",
      "\u001b[0;31mTypeError\u001b[0m: 'numpy.ndarray' object is not callable"
     ]
    }
   ],
   "source": [
    "acf, conf_int, q_stat, p_values  = acf(excel_sheet[\"log_brent_1\"], nlags=100, alpha=0.05, qstat=True)"
   ]
  },
  {
   "cell_type": "code",
   "execution_count": 10,
   "metadata": {},
   "outputs": [
    {
     "data": {
      "image/png": "[encoded data removed]",
      "text/plain": [
       "<Figure size 1500x300 with 1 Axes>"
      ]
     },
     "metadata": {},
     "output_type": "display_data"
    },
    {
     "data": {
      "image/png": "[encoded data removed]",
      "text/plain": [
       "<Figure size 1500x300 with 1 Axes>"
      ]
     },
     "metadata": {},
     "output_type": "display_data"
    }
   ],
   "source": [
    "# Extraer la serie temporal\n",
    "ts = excel_sheet['log_brent_1'].dropna()\n",
    "\n",
    "# Calcular y graficar la ACF\n",
    "fig, ax = plt.subplots(figsize=(15, 3))\n",
    "plot_acf(excel_sheet['brent'], lags=25, ax=ax)\n",
    "\n",
    "# Configurar etiquetas y título del gráfico de la ACF\n",
    "ax.set_xlabel('Lag')\n",
    "ax.set_ylabel('Autocorrelación')\n",
    "ax.set_title('ACF')\n",
    "\n",
    "# Mostrar el gráfico de la ACF\n",
    "plt.show()\n",
    "\n",
    "# Calcular y graficar la PACF\n",
    "fig, ax = plt.subplots(figsize=(15, 3))\n",
    "plot_pacf(excel_sheet['brent'], lags=25, ax=ax)\n",
    "\n",
    "# Configurar etiquetas y título del gráfico de la PACF\n",
    "ax.set_xlabel('Lag')\n",
    "ax.set_ylabel('Autocorrelación Parcial')\n",
    "ax.set_title('PACF')\n",
    "\n",
    "# Mostrar el gráfico de la PACF\n",
    "plt.show()"
   ]
  },
  {
   "cell_type": "code",
   "execution_count": null,
   "metadata": {},
   "outputs": [],
   "source": []
  },
  {
   "cell_type": "code",
   "execution_count": null,
   "metadata": {},
   "outputs": [],
   "source": []
  }
 ],
 "metadata": {
  "kernelspec": {
   "display_name": "env",
   "language": "python",
   "name": "python3"
  },
  "language_info": {
   "codemirror_mode": {
    "name": "ipython",
    "version": 3
   },
   "file_extension": ".py",
   "mimetype": "text/x-python",
   "name": "python",
   "nbconvert_exporter": "python",
   "pygments_lexer": "ipython3",
   "version": "3.10.4"
  },
  "orig_nbformat": 4
 },
 "nbformat": 4,
 "nbformat_minor": 2
}
